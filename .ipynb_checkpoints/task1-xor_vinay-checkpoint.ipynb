{
 "cells": [
  {
   "cell_type": "markdown",
   "metadata": {},
   "source": [
    "# Task 1: XOR"
   ]
  },
  {
   "cell_type": "code",
   "execution_count": 1,
   "metadata": {
    "collapsed": true
   },
   "outputs": [],
   "source": [
    "# Import modules\n",
    "from __future__ import print_function\n",
    "import tensorflow as tf\n",
    "import numpy as np\n",
    "from numpy.random import shuffle\n",
    "import time\n",
    "import matplotlib.pyplot as plt\n",
    "\n",
    "# Plot configurations\n",
    "% matplotlib inline\n",
    "\n",
    "# Notebook auto reloads code. (Ref: http://stackoverflow.com/questions/1907993/autoreload-of-modules-in-ipython)\n",
    "% load_ext autoreload\n",
    "% autoreload 2"
   ]
  },
  {
   "cell_type": "markdown",
   "metadata": {},
   "source": [
    "## Task 1, Part 1: Backpropagation through time (BPTT)"
   ]
  },
  {
   "cell_type": "markdown",
   "metadata": {},
   "source": [
    "**Question:** Consider a simple RNN network shown in the following figure, where __ _wi, wh, b, a, c_ __ are the scalar parameters of the network. The loss function is the **mean squared error (MSE)**. Given input (x0, x1) = (1, 0), ground truth (g1, g2) = (1, 1), h0 = 0, (wi, wh, b, a, c) = (1, 1, 1, 1, 1), compute __ _(dwi, dwh, db, da, dc)_ __, which are the gradients of loss with repect to 5 parameters __ _(wi, wh, b, a, c)_ __.\n",
    "\n",
    "![bptt](./img/bptt.png)"
   ]
  },
  {
   "cell_type": "markdown",
   "metadata": {},
   "source": [
    "<span style=\"color:red\">TODO:</span>\n",
    "\n",
    "Answer the above question. \n",
    "\n",
    "* **[fill in here: Enter your derivations and the computational process]**\n",
    "* You can use LATEX to edit the equations, and Jupyter notebook can recognize basic LATEX syntax. Alternatively, you can edit equations in some other environment and then paste the screenshot of the equations here."
   ]
  },
  {
   "cell_type": "markdown",
   "metadata": {},
   "source": [
    "## Task 1, Part 2: Use tensorflow modules to create XOR network\n",
    "\n",
    "In this part, you need to build and train an XOR network that can learn the XOR function. It is a very simple implementation of RNN and will give you an idea how RNN is built and how to train it."
   ]
  },
  {
   "cell_type": "markdown",
   "metadata": {},
   "source": [
    "### XOR network\n",
    "\n",
    "XOR network can learn the XOR $\\oplus$ function\n",
    "\n",
    "As shown in the figure below, and for instance, if input $(x0, x1, x2)$=(1,0,0), then output $(y1, y2, y3)$=(1,1,1). That is, $y_n = x_0\\oplus x_1 \\oplus ... \\oplus x_{n-1}$\n",
    "\n",
    "![xor_net](./img/xor.png)"
   ]
  },
  {
   "cell_type": "markdown",
   "metadata": {},
   "source": [
    "### Create data set\n",
    "This function provides you the way to generate the data which is required for the training process. You should utilize it when building your training function for the LSTM. Please read the source code for more information."
   ]
  },
  {
   "cell_type": "code",
   "execution_count": 2,
   "metadata": {
    "collapsed": true
   },
   "outputs": [],
   "source": [
    "from ecbm4040.xor.utils import create_dataset"
   ]
  },
  {
   "cell_type": "markdown",
   "metadata": {},
   "source": [
    "### Build a network using a Tensorlow LSTMCell\n",
    "This section shows an example how to build a RNN network using an LSTM cell. LSTM cell is an inbuilt class in tensorflow which implements the real behavior of the LSTM neuron. \n",
    "\n",
    "Reference: [TensorFlow LSTM cell](https://www.tensorflow.org/api_docs/python/tf/contrib/rnn/LSTMCell)"
   ]
  },
  {
   "cell_type": "code",
   "execution_count": 3,
   "metadata": {
    "collapsed": true
   },
   "outputs": [],
   "source": [
    "from tensorflow.contrib.rnn import LSTMCell\n",
    "\n",
    "tf.reset_default_graph()\n",
    "\n",
    "# Input shape: (num_samples, seq_length, input_dimension)\n",
    "# Output shape: (num_samples, output_ground_truth), and output_ground_truth is 0/1. \n",
    "input_data = tf.placeholder(tf.float32,shape=[None,None,1])\n",
    "output_data = tf.placeholder(tf.int64,shape=[None,None])\n",
    "\n",
    "# define LSTM cell\n",
    "lstm_units = 64\n",
    "cell = LSTMCell(lstm_units,num_proj=2,state_is_tuple=True)\n",
    "\n",
    "# create LSTM network: you can also choose other modules provided by tensorflow, like static_rnn etc.\n",
    "out,_ = tf.nn.dynamic_rnn(cell,input_data,dtype=tf.float32)\n",
    "pred = tf.argmax(out,axis=2)\n",
    "\n",
    "# loss function\n",
    "loss = tf.reduce_mean(tf.nn.sparse_softmax_cross_entropy_with_logits(labels=output_data,logits=out))\n",
    "\n",
    "# optimization\n",
    "optimizer = tf.train.AdamOptimizer(learning_rate=0.1).minimize(loss)\n",
    "\n",
    "# accuracy\n",
    "correct_num = tf.equal(output_data,pred)\n",
    "accuracy = tf.reduce_mean(tf.cast(correct_num,tf.float32))"
   ]
  },
  {
   "cell_type": "markdown",
   "metadata": {},
   "source": [
    "### Training \n",
    "\n",
    "<span style='color:red'>TODO:</span> \n",
    "1. Build your training funciton for RNN; \n",
    "2. Plot the cost during the traning"
   ]
  },
  {
   "cell_type": "code",
   "execution_count": 4,
   "metadata": {
    "collapsed": false
   },
   "outputs": [
    {
     "name": "stdout",
     "output_type": "stream",
     "text": [
      "Epoch: 0, Loss: 0.6992498636245728, Accuracy: 49.42626953125%\n",
      "Epoch: 1, Loss: 0.7746771574020386, Accuracy: 49.9847412109375%\n",
      "Epoch: 2, Loss: 0.6895852088928223, Accuracy: 56.231689453125%\n",
      "Epoch: 3, Loss: 0.7110729813575745, Accuracy: 49.9053955078125%\n",
      "Epoch: 4, Loss: 0.6958205699920654, Accuracy: 49.7772216796875%\n",
      "Epoch: 5, Loss: 0.6875345706939697, Accuracy: 56.427001953125%\n",
      "Epoch: 6, Loss: 0.6892763376235962, Accuracy: 46.728515625%\n",
      "Epoch: 7, Loss: 0.6894689798355103, Accuracy: 44.354248046875%\n",
      "Epoch: 8, Loss: 0.6842820644378662, Accuracy: 44.091796875%\n",
      "Epoch: 9, Loss: 0.6773902177810669, Accuracy: 51.495361328125%\n",
      "Epoch: 10, Loss: 0.6700410842895508, Accuracy: 59.41162109375%\n",
      "Epoch: 11, Loss: 0.6586923599243164, Accuracy: 64.300537109375%\n",
      "Epoch: 12, Loss: 0.6121648550033569, Accuracy: 75.0396728515625%\n",
      "Epoch: 13, Loss: 1.0257482528686523, Accuracy: 52.6092529296875%\n",
      "Epoch: 14, Loss: 0.5891684293746948, Accuracy: 71.0968017578125%\n",
      "Epoch: 15, Loss: 0.6534402370452881, Accuracy: 64.532470703125%\n",
      "Epoch: 16, Loss: 0.6334956288337708, Accuracy: 67.3004150390625%\n",
      "Epoch: 17, Loss: 0.6421734094619751, Accuracy: 69.830322265625%\n",
      "Epoch: 18, Loss: 0.6407712697982788, Accuracy: 71.8780517578125%\n",
      "Epoch: 19, Loss: 0.6366029977798462, Accuracy: 70.2606201171875%\n",
      "Epoch: 20, Loss: 0.631355345249176, Accuracy: 61.63330078125%\n",
      "Epoch: 21, Loss: 0.6179156303405762, Accuracy: 60.5499267578125%\n",
      "Epoch: 22, Loss: 0.6086553335189819, Accuracy: 61.3677978515625%\n",
      "Epoch: 23, Loss: 0.5813151001930237, Accuracy: 68.2159423828125%\n",
      "Epoch: 24, Loss: 0.5337279438972473, Accuracy: 76.3916015625%\n",
      "Epoch: 25, Loss: 0.464447021484375, Accuracy: 89.6026611328125%\n",
      "Epoch: 26, Loss: 0.4160648584365845, Accuracy: 84.857177734375%\n",
      "Epoch: 27, Loss: 0.3192541003227234, Accuracy: 99.3408203125%\n",
      "Epoch: 28, Loss: 0.24623067677021027, Accuracy: 99.200439453125%\n",
      "Epoch: 29, Loss: 0.20063337683677673, Accuracy: 98.6480712890625%\n",
      "Epoch: 30, Loss: 0.14408931136131287, Accuracy: 99.761962890625%\n",
      "Epoch: 31, Loss: 0.10492245107889175, Accuracy: 100.0%\n",
      "Epoch: 32, Loss: 0.08551856875419617, Accuracy: 100.0%\n",
      "Epoch: 33, Loss: 0.06322528421878815, Accuracy: 100.0%\n",
      "Epoch: 34, Loss: 0.05100739747285843, Accuracy: 100.0%\n",
      "Epoch: 35, Loss: 0.043142132461071014, Accuracy: 100.0%\n",
      "Epoch: 36, Loss: 0.03011832945048809, Accuracy: 100.0%\n",
      "Epoch: 37, Loss: 0.021775130182504654, Accuracy: 100.0%\n",
      "Epoch: 38, Loss: 0.01755955070257187, Accuracy: 100.0%\n",
      "Epoch: 39, Loss: 0.014360999688506126, Accuracy: 100.0%\n",
      "Epoch: 40, Loss: 0.011162659153342247, Accuracy: 100.0%\n",
      "Epoch: 41, Loss: 0.008205726742744446, Accuracy: 100.0%\n",
      "Epoch: 42, Loss: 0.006242414936423302, Accuracy: 100.0%\n",
      "Epoch: 43, Loss: 0.005215773358941078, Accuracy: 100.0%\n",
      "Epoch: 44, Loss: 0.0047093648463487625, Accuracy: 100.0%\n",
      "Epoch: 45, Loss: 0.004228623583912849, Accuracy: 100.0%\n",
      "Epoch: 46, Loss: 0.003571656998246908, Accuracy: 100.0%\n",
      "Epoch: 47, Loss: 0.0028665889985859394, Accuracy: 100.0%\n",
      "Epoch: 48, Loss: 0.0023673009127378464, Accuracy: 100.0%\n",
      "Epoch: 49, Loss: 0.002046979498118162, Accuracy: 100.0%\n",
      "Epoch: 50, Loss: 0.0018246566178277135, Accuracy: 100.0%\n",
      "Epoch: 51, Loss: 0.0015923912869766355, Accuracy: 100.0%\n",
      "Epoch: 52, Loss: 0.0013757343403995037, Accuracy: 100.0%\n",
      "Epoch: 53, Loss: 0.0011759843910112977, Accuracy: 100.0%\n",
      "Epoch: 54, Loss: 0.0010423436760902405, Accuracy: 100.0%\n",
      "Epoch: 55, Loss: 0.000949036271777004, Accuracy: 100.0%\n",
      "Epoch: 56, Loss: 0.0008749428088776767, Accuracy: 100.0%\n",
      "Epoch: 57, Loss: 0.0008253062842413783, Accuracy: 100.0%\n",
      "Epoch: 58, Loss: 0.0007815382559783757, Accuracy: 100.0%\n",
      "Epoch: 59, Loss: 0.0007408243836835027, Accuracy: 100.0%\n"
     ]
    },
    {
     "data": {
      "image/png": "[encoded data removed]",
      "text/plain": [
       "<matplotlib.figure.Figure at 0x1193a0710>"
      ]
     },
     "metadata": {},
     "output_type": "display_data"
    }
   ],
   "source": [
    "# YOUR TRAINING AND PLOTTING CODE HERE\n",
    "init_op = tf.global_variables_initializer()\n",
    "sess = tf.Session()\n",
    "sess.run(init_op)\n",
    "costs = []\n",
    "\n",
    "for epoch in range(60):\n",
    "    inp_data,out_data = create_dataset(4096)\n",
    "    _,c,acc = sess.run([optimizer,loss,accuracy],feed_dict={input_data: inp_data, output_data: out_data})\n",
    "    print(\"Epoch: {}, Loss: {}, Accuracy: {}%\".format(epoch,c,acc*100))\n",
    "    costs.append(c)\n",
    "\n",
    " \n",
    "plt.grid(\"off\")\n",
    "plt.plot(costs,label=\"Loss Function\")\n",
    "plt.xlabel(\"Epoch\")\n",
    "plt.ylabel(\"Cost\")\n",
    "plt.legend()\n",
    "plt.show()\n",
    " \n",
    "sess.close()"
   ]
  },
  {
   "cell_type": "markdown",
   "metadata": {
    "collapsed": true
   },
   "source": [
    "## Task 1, Part 3 :  Build your own LSTMCell\n",
    "In this part, you need to build your own LSTM cell to achieve the LSTM functionality. \n",
    "\n",
    "<span style=\"color:red\">TODO:</span> \n",
    "1. Finish class **MyLSTMCell** in ecbm4040/xor/rnn.py;\n",
    "2. Write the training function for your RNN;\n",
    "3. Plot the cost during training."
   ]
  },
  {
   "cell_type": "code",
   "execution_count": null,
   "metadata": {
    "collapsed": true
   },
   "outputs": [],
   "source": [
    "from ecbm4040.xor.rnn import MyLSTMCell\n",
    "\n",
    "# recreate xor netowrk with your own LSTM cell\n",
    "tf.reset_default_graph()\n",
    "\n",
    "#Input shape: (num_samples,seq_length,input_dimension)\n",
    "#Output shape: (num_samples, output_ground_truth), and output_ground_truth is 0/1. \n",
    "input_data = tf.placeholder(tf.float32,shape=[None,None,1])\n",
    "output_data = tf.placeholder(tf.int64,shape=[None,None])\n",
    "\n",
    "# recreate xor netowrk with your own LSTM cell\n",
    "lstm_units = 64\n",
    "cell = MyLSTMCell(lstm_units,num_proj=2)\n",
    "\n",
    "# create LSTM network: you can also choose other modules provided by tensorflow, like static_rnn etc.\n",
    "out,_ = tf.nn.dynamic_rnn(cell,input_data,dtype=tf.float32)\n",
    "pred = tf.argmax(out,axis=2)\n",
    "\n",
    "# loss function\n",
    "loss = tf.reduce_mean(tf.nn.sparse_softmax_cross_entropy_with_logits(labels=output_data,logits=out))\n",
    "# optimization\n",
    "optimizer = tf.train.AdamOptimizer(learning_rate=0.1).minimize(loss)\n",
    "# accuracy\n",
    "correct = tf.equal(output_data,pred)\n",
    "accuracy = tf.reduce_mean(tf.cast(correct,tf.float32))"
   ]
  },
  {
   "cell_type": "markdown",
   "metadata": {},
   "source": [
    "### Training"
   ]
  },
  {
   "cell_type": "code",
   "execution_count": null,
   "metadata": {
    "collapsed": true
   },
   "outputs": [],
   "source": [
    "# YOUR TRAINING AND PLOTTING CODE HERE"
   ]
  },
  {
   "cell_type": "code",
   "execution_count": 2,
   "metadata": {
    "collapsed": false
   },
   "outputs": [
    {
     "name": "stdout",
     "output_type": "stream",
     "text": [
      "C:\\Users\\zoran\\Anaconda3\\envs\\dlWorksA3\\lib\\site-packages\\tensorflow\\__init__.py\n"
     ]
    }
   ],
   "source": [
    "import tensorflow as tf\n",
    "print (tf.__file__)"
   ]
  },
  {
   "cell_type": "code",
   "execution_count": null,
   "metadata": {
    "collapsed": true
   },
   "outputs": [],
   "source": []
  }
 ],
 "metadata": {
  "kernelspec": {
   "display_name": "Python 3",
   "language": "python",
   "name": "python3"
  },
  "language_info": {
   "codemirror_mode": {
    "name": "ipython",
    "version": 3
   },
   "file_extension": ".py",
   "mimetype": "text/x-python",
   "name": "python",
   "nbconvert_exporter": "python",
   "pygments_lexer": "ipython3",
   "version": "3.5.3"
  }
 },
 "nbformat": 4,
 "nbformat_minor": 2
}
