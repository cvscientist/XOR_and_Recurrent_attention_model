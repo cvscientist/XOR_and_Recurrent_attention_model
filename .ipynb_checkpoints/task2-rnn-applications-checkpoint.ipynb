{
 "cells": [
  {
   "cell_type": "markdown",
   "metadata": {},
   "source": [
    "# Task 2: RNN application -- Tweet Sentiment Analysis"
   ]
  },
  {
   "cell_type": "code",
   "execution_count": 1,
   "metadata": {
    "collapsed": true
   },
   "outputs": [],
   "source": [
    "# Import modules\n",
    "from __future__ import print_function\n",
    "import tensorflow as tf\n",
    "import numpy as np\n",
    "import json\n",
    "import time\n",
    "import matplotlib.pyplot as plt\n",
    "import pickle\n",
    "\n",
    "# Plot configurations\n",
    "% matplotlib inline\n",
    "# Notebook auto reloads code. (Ref: http://stackoverflow.com/questions/1907993/autoreload-of-modules-in-ipython)\n",
    "% load_ext autoreload\n",
    "% autoreload 2"
   ]
  },
  {
   "cell_type": "markdown",
   "metadata": {},
   "source": [
    "### Load data"
   ]
  },
  {
   "cell_type": "code",
   "execution_count": 2,
   "metadata": {
    "collapsed": false
   },
   "outputs": [
    {
     "name": "stdout",
     "output_type": "stream",
     "text": [
      "size of original train set: 60000\n",
      "size of original test set: 20000\n",
      "****************************************************************************************************\n",
      "size of train set: 60000, #positive: 30055, #negative: 29945\n",
      "size of test set: 1000, #positive: 510, #negative: 490\n",
      "['it', 'will', 'help', 'relieve', 'your', 'stress', 'padtoken', 'padtoken', 'padtoken', 'padtoken', 'padtoken', 'padtoken', 'padtoken', 'padtoken', 'padtoken', 'padtoken', 'padtoken', 'padtoken', 'padtoken', 'padtoken']\n",
      "sentiment: positive\n"
     ]
    }
   ],
   "source": [
    "with open(\"./tweets_data/vocabulary.pkl\", \"rb\") as f:\n",
    "    vocabulary = pickle.load(f)\n",
    "\n",
    "# load our data and separate it into tweets and labels\n",
    "train_data = json.load(open('tweets_data/trainTweets_preprocessed.json', 'r'))\n",
    "train_data = list(map(lambda row:(np.array(row[0],dtype=np.int32),str(row[1])),train_data))\n",
    "train_tweets = np.array([t[0] for t in train_data])\n",
    "train_labels = np.array([int(t[1]) for t in train_data])\n",
    "\n",
    "test_data = json.load(open('tweets_data/testTweets_preprocessed.json', 'r'))\n",
    "test_data = list(map(lambda row:(np.array(row[0],dtype=np.int32),str(row[1])),test_data))\n",
    "test_tweets = np.array([t[0] for t in test_data])\n",
    "test_labels = np.array([int(t[1]) for t in test_data])\n",
    "\n",
    "print(\"size of original train set: {}\".format(len(train_tweets)))\n",
    "print(\"size of original test set: {}\".format(len(test_tweets)))\n",
    "\n",
    "# only select first 1000 test sample for test\n",
    "test_tweets = test_tweets[:1000]\n",
    "test_labels = test_labels[:1000]\n",
    "\n",
    "print(\"*\"*100)\n",
    "print(\"size of train set: {}, #positive: {}, #negative: {}\".format(len(train_tweets), np.sum(train_labels), len(train_tweets)-np.sum(train_labels)))\n",
    "print(\"size of test set: {}, #positive: {}, #negative: {}\".format(len(test_tweets), np.sum(test_labels), len(test_tweets)-np.sum(test_labels)))\n",
    "\n",
    "# show text of the idx-th train tweet\n",
    "# The 'padtoken' is used to ensure each tweet has the same length\n",
    "idx = 100\n",
    "train_text = [vocabulary[x] for x in train_tweets[idx]]\n",
    "print(train_text)\n",
    "sentiment_label = [\"negative\", \"positive\"]\n",
    "print(\"sentiment: {}\".format(sentiment_label[train_labels[idx]]))"
   ]
  },
  {
   "cell_type": "markdown",
   "metadata": {},
   "source": [
    "## Part 1: LSTM Encoder"
   ]
  },
  {
   "cell_type": "markdown",
   "metadata": {},
   "source": [
    "### train a single-layer lstm network\n",
    "\n",
    "First of all, we'll build a single-layer LSTM network for the analysis. The network structure is the following:\n",
    "\n",
    "![](./img/singleLSTM.png)\n",
    "\n",
    "1. Train the network for 1000 iterations. In each iteration, use batch_size samples to train the network.\n",
    "2. For every 50 iterations, apply the network on the test set, and print out the test accuracy and mean loss."
   ]
  },
  {
   "cell_type": "code",
   "execution_count": 3,
   "metadata": {
    "collapsed": true
   },
   "outputs": [],
   "source": [
    "# define a linear layer, y = x*w + b\n",
    "def linear(input_, output_size, name, init_bias=0.0):\n",
    "    shape = input_.get_shape().as_list()\n",
    "    with tf.variable_scope(name):\n",
    "        init = tf.truncated_normal([shape[-1], output_size], mean=0.0, stddev=1.0 / shape[-1]**0.5)\n",
    "        W = tf.get_variable(\"weight\", initializer=init)\n",
    "    if init_bias is None:\n",
    "        return tf.matmul(input_, W)\n",
    "    with tf.variable_scope(name):\n",
    "        b = tf.get_variable(\"bias\", [output_size], initializer=tf.constant_initializer(init_bias))\n",
    "    return tf.matmul(input_, W) + b"
   ]
  },
  {
   "cell_type": "code",
   "execution_count": 4,
   "metadata": {
    "collapsed": true
   },
   "outputs": [],
   "source": [
    "# set variables\n",
    "tweet_size = 20\n",
    "hidden_size = 100\n",
    "vocab_size = 7597\n",
    "batch_size = 64\n",
    "\n",
    "# this just makes sure that all our following operations will be placed in the right graph.\n",
    "tf.reset_default_graph()\n",
    "\n",
    "# make placeholders for data we'll feed in\n",
    "tweets = tf.placeholder(tf.int32, [None, tweet_size])\n",
    "labels = tf.placeholder(tf.float32, [None])\n",
    "\n",
    "tweets_onehot = tf.one_hot(tweets, depth=vocab_size, axis=-1)\n",
    "\n",
    "# define the lstm cell\n",
    "lstm_cell = tf.contrib.rnn.LSTMCell(hidden_size)\n",
    "\n",
    "# define the op that runs the LSTM, across time, on the data\n",
    "init_state = lstm_cell.zero_state(batch_size, tf.float32)\n",
    "outputs, final_state = tf.nn.dynamic_rnn(lstm_cell, tweets_onehot, initial_state=init_state, dtype=tf.float32)\n",
    "\n",
    "# define that our final sentiment logit is a linear function of the final state of the LSTM\n",
    "sentiment = linear(final_state[-1], 1, name=\"output\")\n",
    "\n",
    "# define cross entropy/sigmoid loss function\n",
    "sentiment = tf.squeeze(sentiment, [1])\n",
    "loss = tf.nn.sigmoid_cross_entropy_with_logits(logits=sentiment, labels=labels)\n",
    "loss = tf.reduce_mean(loss)\n",
    "\n",
    "# compute accuracy\n",
    "prob = tf.nn.sigmoid(sentiment)\n",
    "prediction = tf.to_float(tf.greater_equal(prob, 0.5))\n",
    "acc = tf.to_float(tf.equal(prediction, labels))\n",
    "acc = tf.reduce_mean(acc)\n",
    "\n",
    "# define optimizer\n",
    "trainer = tf.train.AdamOptimizer()\n",
    "gradients = trainer.compute_gradients(loss)\n",
    "gradients_clipped = [(tf.clip_by_value(t[0],-1,1),t[1]) for t in gradients]\n",
    "optimizer = trainer.apply_gradients(gradients_clipped)"
   ]
  },
  {
   "cell_type": "code",
   "execution_count": 5,
   "metadata": {
    "collapsed": false,
    "scrolled": false
   },
   "outputs": [
    {
     "name": "stdout",
     "output_type": "stream",
     "text": [
      "step:  0  Accuracy =  0.541666666667  Mean Loss =  0.692701220512\n",
      "step:  50  Accuracy =  0.627083333333  Mean Loss =  0.681698779265\n",
      "step:  100  Accuracy =  0.677083333333  Mean Loss =  0.642125983049\n",
      "step:  150  Accuracy =  0.696875  Mean Loss =  0.615378264362\n",
      "step:  200  Accuracy =  0.709375  Mean Loss =  0.59999434435\n",
      "step:  250  Accuracy =  0.719791666667  Mean Loss =  0.589441313449\n",
      "step:  300  Accuracy =  0.725  Mean Loss =  0.582960283142\n",
      "step:  350  Accuracy =  0.702083333333  Mean Loss =  0.575377507682\n",
      "step:  400  Accuracy =  0.7375  Mean Loss =  0.567339816667\n",
      "step:  450  Accuracy =  0.739583333333  Mean Loss =  0.563497719109\n",
      "step:  500  Accuracy =  0.736458333333  Mean Loss =  0.559812697465\n",
      "step:  550  Accuracy =  0.7375  Mean Loss =  0.556642694017\n",
      "step:  600  Accuracy =  0.711458333333  Mean Loss =  0.553126814411\n",
      "step:  650  Accuracy =  0.75  Mean Loss =  0.548556386738\n",
      "step:  700  Accuracy =  0.757291666667  Mean Loss =  0.545825862553\n",
      "step:  750  Accuracy =  0.747916666667  Mean Loss =  0.543397671651\n",
      "step:  800  Accuracy =  0.74375  Mean Loss =  0.541555336575\n",
      "step:  850  Accuracy =  0.748958333333  Mean Loss =  0.538875928357\n",
      "step:  900  Accuracy =  0.747916666667  Mean Loss =  0.536667602308\n"
     ]
    }
   ],
   "source": [
    "# Training function\n",
    "num_steps = train_tweets.shape[0]//batch_size\n",
    "mean_loss = 0\n",
    "train_total = 0\n",
    "with tf.Session() as sess:\n",
    "    sess.run(tf.global_variables_initializer())\n",
    "    for step in range(num_steps):\n",
    "        \n",
    "        start = step*batch_size \n",
    "        end = start + batch_size\n",
    "\n",
    "        batch_tweet = train_tweets[start:end]\n",
    "        batch_label = train_labels[start:end]\n",
    "        # TODO: run the 'optimizer', 'loss', and 'acc' operations in the graph using the batch data\n",
    "        _, train_loss, train_acc = sess.run([optimizer,loss, acc],feed_dict={tweets:batch_tweet,labels:batch_label})\n",
    "        train_total += train_loss\n",
    "        if (step % 50 == 0):\n",
    "            test_batches = test_tweets.shape[0] // batch_size\n",
    "            test_acc = 0\n",
    "            test_loss = 0\n",
    "            for i in range(test_batches):\n",
    "                l = i*batch_size\n",
    "                r = l + batch_size\n",
    "                test_X = test_tweets[l:r]\n",
    "                test_Y = test_labels[l:r]\n",
    "                test_acc += sess.run(acc,feed_dict= {tweets:test_X,labels:test_Y})\n",
    "                test_loss += sess.run(loss,feed_dict= {tweets:test_X,labels:test_Y})\n",
    "                mean_loss = train_total/(step+1)\n",
    "            print(\"step: \",step,\" Accuracy = \",(test_acc/test_batches), \" Mean Loss = \", mean_loss)\n",
    "            "
   ]
  },
  {
   "cell_type": "markdown",
   "metadata": {},
   "source": [
    "### train a two-layer lstm network\n",
    "\n",
    "Next, we look at a slightly more difficult network structure: a double-layer LSTM. The output of the first LSTM cell is propagated to the second LSTM cell. We only need to make small modifications to the previous network to construct this one.\n",
    "\n",
    "![](./img/doubleLSTM.png)"
   ]
  },
  {
   "cell_type": "code",
   "execution_count": 6,
   "metadata": {
    "collapsed": true
   },
   "outputs": [],
   "source": [
    "# YOUR DOUBLE-LAYER LSTM Here\n",
    "tweet_size = 20\n",
    "hidden_size = 100\n",
    "vocab_size = 7597\n",
    "batch_size = 64\n",
    "num_layers = 2\n",
    "\n",
    "# this just makes sure that all our following operations will be placed in the right graph.\n",
    "tf.reset_default_graph()\n",
    "\n",
    "# make placeholders for data we'll feed in\n",
    "tweets = tf.placeholder(tf.int32, [None, tweet_size])\n",
    "labels = tf.placeholder(tf.float32, [None])\n",
    "\n",
    "tweets_onehot = tf.one_hot(tweets, depth=vocab_size, axis=-1)\n",
    "\n",
    "# define the lstm cell\n",
    "# lstm_cell = tf.contrib.rnn.LSTMCell(hidden_size)\n",
    "lstm_cell = tf.contrib.rnn.MultiRNNCell([tf.contrib.rnn.LSTMCell(hidden_size) for i in range(num_layers)])\n",
    "\n",
    "# define the op that runs the LSTM, across time, on the data\n",
    "init_state = lstm_cell.zero_state(batch_size, tf.float32)\n",
    "outputs, final_state = tf.nn.dynamic_rnn(lstm_cell, tweets_onehot, initial_state=init_state, dtype=tf.float32)\n",
    "\n",
    "# define that our final sentiment logit is a linear function of the final state of the LSTM\n",
    "sentiment = linear(final_state[-1][-1], 1, name=\"output\")\n",
    "\n",
    "# define cross entropy/sigmoid loss function\n",
    "sentiment = tf.squeeze(sentiment, [1])\n",
    "loss = tf.nn.sigmoid_cross_entropy_with_logits(logits=sentiment, labels=labels)\n",
    "loss = tf.reduce_mean(loss)\n",
    "\n",
    "# compute accuracy\n",
    "prob = tf.nn.sigmoid(sentiment)\n",
    "prediction = tf.to_float(tf.greater_equal(prob, 0.5))\n",
    "acc = tf.to_float(tf.equal(prediction, labels))\n",
    "acc = tf.reduce_mean(acc)\n",
    "\n",
    "# define optimizer\n",
    "trainer = tf.train.AdamOptimizer()\n",
    "gradients = trainer.compute_gradients(loss)\n",
    "gradients_clipped = [(tf.clip_by_value(t[0],-1,1),t[1]) for t in gradients]\n",
    "optimizer = trainer.apply_gradients(gradients_clipped)\n"
   ]
  },
  {
   "cell_type": "code",
   "execution_count": 7,
   "metadata": {
    "collapsed": false
   },
   "outputs": [
    {
     "name": "stdout",
     "output_type": "stream",
     "text": [
      "step:  0  Accuracy =  0.557291666667  Mean Loss =  0.69356328249\n",
      "step:  50  Accuracy =  0.660416666667  Mean Loss =  0.663909698234\n",
      "step:  100  Accuracy =  0.679166666667  Mean Loss =  0.628872762222\n",
      "step:  150  Accuracy =  0.709375  Mean Loss =  0.604339958816\n",
      "step:  200  Accuracy =  0.717708333333  Mean Loss =  0.590522054268\n",
      "step:  250  Accuracy =  0.740625  Mean Loss =  0.581135162794\n",
      "step:  300  Accuracy =  0.748958333333  Mean Loss =  0.575728826547\n",
      "step:  350  Accuracy =  0.726041666667  Mean Loss =  0.568300984948\n",
      "step:  400  Accuracy =  0.753125  Mean Loss =  0.560448110029\n",
      "step:  450  Accuracy =  0.741666666667  Mean Loss =  0.55604245849\n",
      "step:  500  Accuracy =  0.747916666667  Mean Loss =  0.552745302042\n",
      "step:  550  Accuracy =  0.755208333333  Mean Loss =  0.549964448447\n",
      "step:  600  Accuracy =  0.734375  Mean Loss =  0.54697419279\n",
      "step:  650  Accuracy =  0.757291666667  Mean Loss =  0.542550471063\n",
      "step:  700  Accuracy =  0.766666666667  Mean Loss =  0.539897712338\n",
      "step:  750  Accuracy =  0.759375  Mean Loss =  0.537590816121\n",
      "step:  800  Accuracy =  0.747916666667  Mean Loss =  0.535922896438\n",
      "step:  850  Accuracy =  0.752083333333  Mean Loss =  0.533461405409\n",
      "step:  900  Accuracy =  0.747916666667  Mean Loss =  0.531291635366\n"
     ]
    }
   ],
   "source": [
    "# YOUR TRAINING HERE\n",
    "num_steps = train_tweets.shape[0]//batch_size\n",
    "mean_loss = 0\n",
    "train_total = 0\n",
    "with tf.Session() as sess:\n",
    "    sess.run(tf.global_variables_initializer())\n",
    "    for step in range(num_steps):\n",
    "        \n",
    "        start = step*batch_size\n",
    "        end = start + batch_size\n",
    "                \n",
    "        batch_tweet = train_tweets[start:end]\n",
    "        batch_label = train_labels[start:end]\n",
    "        # TODO: run the 'optimizer', 'loss', and 'acc' operations in the graph using the batch data\n",
    "        _, train_loss, train_acc = sess.run([optimizer,loss, acc],feed_dict={tweets:batch_tweet,labels:batch_label})\n",
    "        train_total += train_loss\n",
    "        if (step % 50 == 0):\n",
    "            test_batches = test_tweets.shape[0] // batch_size\n",
    "            test_acc = 0\n",
    "            for i in range(test_batches):\n",
    "                l = i*batch_size\n",
    "                r = l + batch_size\n",
    "                test_X = test_tweets[l:r]\n",
    "                test_Y = test_labels[l:r]\n",
    "                test_acc += sess.run(acc,feed_dict= {tweets:test_X,labels:test_Y})\n",
    "                test_loss += sess.run(loss,feed_dict= {tweets:test_X,labels:test_Y})\n",
    "                mean_loss = train_total/(step+1)\n",
    "            print(\"step: \",step,\" Accuracy = \",(test_acc/test_batches), \" Mean Loss = \", mean_loss)\n",
    "            "
   ]
  },
  {
   "cell_type": "markdown",
   "metadata": {},
   "source": [
    "## Part 2: Embedding Lookup layer\n",
    "\n",
    "![](./img/embedding.png)"
   ]
  },
  {
   "cell_type": "markdown",
   "metadata": {},
   "source": [
    "###  Define an embedding layer\n",
    "\n",
    "It's not hard to imagine in the previous practices, the input we fed in are very sparse because each word was represented as a one-hot vector. This makes it difficult for the network to understand what story the input data is telling. \n",
    "\n",
    "Word embedding: instead of using a one-hot vector to represent each word, we can add an word embedding matrix in which each word is represented as a low-dimensional vector. Note that this representation is not sparse any more, because we're working in a continuous vector space now. Words that share similar/related semantic meaning should be 'close to each other' in this vector space (we could define a distance measure to estimate the closeness). \n",
    "\n",
    "[https://www.tensorflow.org/tutorials/word2vec](https://www.tensorflow.org/tutorials/word2vec)"
   ]
  },
  {
   "cell_type": "code",
   "execution_count": 21,
   "metadata": {
    "collapsed": true
   },
   "outputs": [],
   "source": [
    "def embedding(input_, vocab_size, output_size, name):\n",
    "    \"\"\"\n",
    "    1. Define an embedding matrix\n",
    "    2. return both the lookup results and the embedding matrix.\n",
    "    \"\"\"\n",
    "    embedding_mat = tf.Variable(tf.random_uniform([vocab_size, output_size], -1.0, 1.0),name = name)\n",
    "    embed_lookup = tf.nn.embedding_lookup(embedding_mat, input_)\n",
    "    return embedding_mat,embed_lookup"
   ]
  },
  {
   "cell_type": "markdown",
   "metadata": {},
   "source": [
    "### Train a single lstm network with embedding layer"
   ]
  },
  {
   "cell_type": "code",
   "execution_count": 22,
   "metadata": {
    "collapsed": true
   },
   "outputs": [],
   "source": [
    "# YOUR EMBEDDING SINGLE-LAYER LSTM HERE\n",
    "tweet_size = 20\n",
    "hidden_size = 100\n",
    "vocab_size = 7597\n",
    "batch_size = 64\n",
    "output_size = 150\n",
    "\n",
    "\n",
    "# this just makes sure that all our following operations will be placed in the right graph.\n",
    "tf.reset_default_graph()\n",
    "\n",
    "# make placeholders for data we'll feed in\n",
    "tweets = tf.placeholder(tf.int32, [None, tweet_size])\n",
    "labels = tf.placeholder(tf.float32, [None])\n",
    "\n",
    "embedding_mat, lookup = embedding(tweets,vocab_size,output_size,'embedding_mat')\n",
    "\n",
    "# define the lstm cell\n",
    "lstm_cell = tf.contrib.rnn.LSTMCell(hidden_size)\n",
    "\n",
    "# define the op that runs the LSTM, across time, on the data\n",
    "init_state = lstm_cell.zero_state(batch_size, tf.float32)\n",
    "outputs, final_state = tf.nn.dynamic_rnn(lstm_cell, lookup, initial_state=init_state, dtype=tf.float32)\n",
    "\n",
    "# define that our final sentiment logit is a linear function of the final state of the LSTM\n",
    "sentiment = linear(final_state[-1], 1, name=\"output\")\n",
    "\n",
    "# define cross entropy/sigmoid loss function\n",
    "sentiment = tf.squeeze(sentiment, [1])\n",
    "loss = tf.nn.sigmoid_cross_entropy_with_logits(logits=sentiment, labels=labels)\n",
    "loss = tf.reduce_mean(loss)\n",
    "\n",
    "# compute accuracy\n",
    "prob = tf.nn.sigmoid(sentiment)\n",
    "prediction = tf.to_float(tf.greater_equal(prob, 0.5))\n",
    "acc = tf.to_float(tf.equal(prediction, labels))\n",
    "acc = tf.reduce_mean(acc)\n",
    "\n",
    "# define optimizer\n",
    "trainer = tf.train.AdamOptimizer()\n",
    "gradients = trainer.compute_gradients(loss)\n",
    "gradients_clipped = [(tf.clip_by_value(t[0],-1,1),t[1]) for t in gradients]\n",
    "optimizer = trainer.apply_gradients(gradients_clipped)"
   ]
  },
  {
   "cell_type": "code",
   "execution_count": 23,
   "metadata": {
    "collapsed": false
   },
   "outputs": [
    {
     "name": "stdout",
     "output_type": "stream",
     "text": [
      "step:  0  Accuracy =  0.534375  Mean Loss =  0.698773264885\n",
      "step:  50  Accuracy =  0.553125  Mean Loss =  0.693176641184\n",
      "step:  100  Accuracy =  0.584375  Mean Loss =  0.688724697816\n",
      "step:  150  Accuracy =  0.641666666667  Mean Loss =  0.674904002654\n",
      "step:  200  Accuracy =  0.675  Mean Loss =  0.659717993357\n",
      "step:  250  Accuracy =  0.708333333333  Mean Loss =  0.645617225731\n",
      "step:  300  Accuracy =  0.708333333333  Mean Loss =  0.639122467401\n",
      "step:  350  Accuracy =  0.698958333333  Mean Loss =  0.628749201355\n",
      "step:  400  Accuracy =  0.698958333333  Mean Loss =  0.619741013\n",
      "step:  450  Accuracy =  0.723958333333  Mean Loss =  0.612193536534\n",
      "step:  500  Accuracy =  0.730208333333  Mean Loss =  0.606019022282\n",
      "step:  550  Accuracy =  0.751041666667  Mean Loss =  0.600268600857\n",
      "step:  600  Accuracy =  0.75  Mean Loss =  0.594674198679\n",
      "step:  650  Accuracy =  0.75  Mean Loss =  0.588545608401\n",
      "step:  700  Accuracy =  0.752083333333  Mean Loss =  0.583799130821\n",
      "step:  750  Accuracy =  0.740625  Mean Loss =  0.579306631526\n",
      "step:  800  Accuracy =  0.741666666667  Mean Loss =  0.575870769636\n",
      "step:  850  Accuracy =  0.745833333333  Mean Loss =  0.571495951098\n",
      "step:  900  Accuracy =  0.754166666667  Mean Loss =  0.567849947596\n"
     ]
    }
   ],
   "source": [
    "# YOUR TRAINING HERE\n",
    "num_steps = train_tweets.shape[0] // batch_size\n",
    "mean_loss = 0\n",
    "train_total = 0\n",
    "with tf.Session() as sess:\n",
    "    sess.run(tf.global_variables_initializer())\n",
    "    for step in range(num_steps):\n",
    "        \n",
    "        start_idx = step*batch_size\n",
    "        end_idx = start_idx + batch_size\n",
    "        \n",
    "\n",
    "        batchX = train_tweets[start_idx:end_idx]\n",
    "        batchY = train_labels[start_idx:end_idx]\n",
    "        # TODO: run the 'optimizer', 'loss', and 'acc' operations in the graph using the batch data\n",
    "        _, train_loss, train_acc = sess.run([optimizer,loss, acc],feed_dict= \\\n",
    "                                                {tweets:batchX,labels:batchY})\n",
    "        train_total += train_loss\n",
    "        if (step % 50 == 0):\n",
    "            test_batches = test_tweets.shape[0] // batch_size\n",
    "            test_acc = 0\n",
    "            for i in range(test_batches):\n",
    "                idx1 = i*batch_size\n",
    "                idx2 = idx1 + batch_size\n",
    "                test_X = test_tweets[idx1:idx2]\n",
    "                test_Y = test_labels[idx1:idx2]\n",
    "                test_acc += sess.run(acc,feed_dict= {tweets:test_X,labels:test_Y})\n",
    "                \n",
    "            mean_loss = train_total/(step+1)\n",
    "            print(\"step: \",step,\" Accuracy = \",(test_acc/test_batches), \" Mean Loss = \", mean_loss)\n",
    "            # TODO: get test accuracy and loss, and print them out.\n",
    "    vocab_embeddings = sess.run(embedding_mat)"
   ]
  },
  {
   "cell_type": "markdown",
   "metadata": {},
   "source": [
    "### Visualize word vectors via tSNE\n",
    "\n",
    "First, you need to retrieve **embedding matrix** from the network. Then use tSNE to reduce each low-dimensional word vector into a 2D vector. \n",
    "\n",
    "And then, you should visualize some interesting word pairs in 2D panel. You may find **scatter** function in **matplotlib.pyplot** useful.\n",
    "\n",
    "\n",
    "You can use **TSNE** tool provided in **scikit-learn**.\n",
    "\n",
    "The result for female-male pairs should look like, and you will observe that king-men and queen-women are parallel to each other in a 2D panel.\n",
    "\n",
    "\n",
    "![](./img/tsne_female_male.png)"
   ]
  },
  {
   "cell_type": "code",
   "execution_count": 24,
   "metadata": {
    "collapsed": false
   },
   "outputs": [
    {
     "data": {
      "text/plain": [
       "(7597, 150)"
      ]
     },
     "execution_count": 24,
     "metadata": {},
     "output_type": "execute_result"
    }
   ],
   "source": [
    "female_male = [\"men\", \"women\", \"king\", \"queen\"]\n",
    "country_capital = [\"spain\", \"madrid\", \"italy\", \"rome\", \"japan\", \"tokyo\"]\n",
    "#fruit_clour = [\"apple\", \"red\", \"lemon\", \"yellow\", \"mandarin\", \"orange\"]\n",
    "\n",
    "vocab_embeddings.shape"
   ]
  },
  {
   "cell_type": "code",
   "execution_count": 25,
   "metadata": {
    "collapsed": false
   },
   "outputs": [
    {
     "data": {
      "text/plain": [
       "(7597, 2)"
      ]
     },
     "execution_count": 25,
     "metadata": {},
     "output_type": "execute_result"
    }
   ],
   "source": [
    "from sklearn.manifold import TSNE\n",
    "### your code here\n",
    "X_embedded = TSNE( n_components=2, init='pca', n_iter=1000, random_state=10).fit_transform(vocab_embeddings)\n",
    "X_embedded.shape"
   ]
  },
  {
   "cell_type": "code",
   "execution_count": 26,
   "metadata": {
    "collapsed": false,
    "scrolled": true
   },
   "outputs": [
    {
     "data": {
      "image/png": "[encoded data removed]",
      "text/plain": [
       "<matplotlib.figure.Figure at 0x7f51c54a67b8>"
      ]
     },
     "metadata": {},
     "output_type": "display_data"
    }
   ],
   "source": [
    "import matplotlib.pyplot as plt\n",
    "%matplotlib inline\n",
    "\n",
    "def wordvec(vocab,words):\n",
    "    idx = [np.where(vocab==a) for a in words]\n",
    "    res = []\n",
    "    for i in range(len(idx)):\n",
    "        res.append(idx[i][0][0])\n",
    "    return res\n",
    "X = X_embedded[wordvec(vocabulary,female_male)]\n",
    "\n",
    "plt.scatter(X[:,0],X[:,1])\n",
    "\n",
    "for i, txt in enumerate(female_male):\n",
    "    plt.annotate(txt, (X[i,0],X[i,1]))\n",
    "plt.show()\n",
    "\n"
   ]
  },
  {
   "cell_type": "code",
   "execution_count": 27,
   "metadata": {
    "collapsed": false
   },
   "outputs": [
    {
     "data": {
      "image/png": "[encoded data removed]",
      "text/plain": [
       "<matplotlib.figure.Figure at 0x7f51c54a6f28>"
      ]
     },
     "metadata": {},
     "output_type": "display_data"
    }
   ],
   "source": [
    "X = X_embedded[wordvec(vocabulary,country_capital)]\n",
    "\n",
    "plt.scatter(X[:,0],X[:,1])\n",
    "\n",
    "for i, txt in enumerate(country_capital):\n",
    "    plt.annotate(txt, (X[i,0],X[i,1]))\n",
    "plt.show()"
   ]
  },
  {
   "cell_type": "markdown",
   "metadata": {},
   "source": [
    "Describe your observation of these word vectors\n",
    "\n",
    "Answer: **We see in the above two example that the vectors joining men-king and women-queen seem to be parallel as expected based on theory. This however is also true in the second case. The vectors joining japan-rome and madrid-spain are almost parallel and italy-rome is randomly oriented **"
   ]
  },
  {
   "cell_type": "code",
   "execution_count": null,
   "metadata": {
    "collapsed": true
   },
   "outputs": [],
   "source": []
  }
 ],
 "metadata": {
  "kernelspec": {
   "display_name": "Python 3",
   "language": "python",
   "name": "python3"
  },
  "language_info": {
   "codemirror_mode": {
    "name": "ipython",
    "version": 3
   },
   "file_extension": ".py",
   "mimetype": "text/x-python",
   "name": "python",
   "nbconvert_exporter": "python",
   "pygments_lexer": "ipython3",
   "version": "3.5.3"
  }
 },
 "nbformat": 4,
 "nbformat_minor": 2
}
